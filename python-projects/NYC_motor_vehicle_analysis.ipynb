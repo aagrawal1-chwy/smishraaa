{
 "cells": [
  {
   "cell_type": "markdown",
   "metadata": {},
   "source": [
    "# Computing in Context: Public Policy\n",
    "## Project 1: Exploratory Data Analysis \n",
    "\n",
    "---\n",
    "\n",
    "In this project, you will combine the computational concepts and best practices you have learned with Professor Cannon with the data exploration skills you have developed in the context. The functions you write in this assignment should be robust to any dataset, so you can use this code again in the future.\n",
    "\n",
    "You will be working with the [NYPD Motor Vehicle Collisions - Crashes](https://data.cityofnewyork.us/Public-Safety/NYPD-Motor-Vehicle-Collisions-Crashes/h9gi-nx95) dataset, made available on the [NYC Open Data](http://opendata.cityofnewyork.us/) portal. Specifically, you will be working with a sample of the data in the file `nypd_motor_vehicle_collisions_crashes_sample.csv` that I have posted to Courseworks.\n",
    "\n",
    "Almost all of the attributes and methods you will need to use you have already learned. A few hints for additional things that might come in handy:\n",
    "\n",
    "- The Series attribute `index` is going to come in handy in the first function\n",
    "- For printing text, [formatted string literals](https://docs.python.org/3/tutorial/inputoutput.html#formatted-string-literals) (or f strings) let you include the value of Python expressions inside a string\n",
    "- For printing a plot, use the command `plt.show()` after you have created the plot\n",
    "\n",
    "To get you started, I'm importing the libraries you will need and providing some code to make sure all the output of your functions prints in the notebook. I'm also providing code to load the data you'll need for the assignment.\n",
    "\n",
    "To submit the project, upload the completed notebook to Courseworks.\n",
    "\n",
    "This is an individual assignment."
   ]
  },
  {
   "cell_type": "code",
   "execution_count": 1,
   "metadata": {},
   "outputs": [],
   "source": [
    "# Import relevant libraries\n",
    "import pandas as pd\n",
    "import matplotlib.pyplot as plt\n",
    "from IPython.core.interactiveshell import InteractiveShell\n",
    "import numpy as np\n",
    "\n",
    "# Make sure notebook prints all output a cell\n",
    "InteractiveShell.ast_node_interactivity = \"all\"\n",
    "\n",
    "# Make sure notebook prints plots\n",
    "%matplotlib inline"
   ]
  },
  {
   "cell_type": "code",
   "execution_count": 2,
   "metadata": {},
   "outputs": [
    {
     "data": {
      "text/html": [
       "<div>\n",
       "<style scoped>\n",
       "    .dataframe tbody tr th:only-of-type {\n",
       "        vertical-align: middle;\n",
       "    }\n",
       "\n",
       "    .dataframe tbody tr th {\n",
       "        vertical-align: top;\n",
       "    }\n",
       "\n",
       "    .dataframe thead th {\n",
       "        text-align: right;\n",
       "    }\n",
       "</style>\n",
       "<table border=\"1\" class=\"dataframe\">\n",
       "  <thead>\n",
       "    <tr style=\"text-align: right;\">\n",
       "      <th></th>\n",
       "      <th>DATE</th>\n",
       "      <th>BOROUGH</th>\n",
       "      <th>NUMBER OF PERSONS INJURED</th>\n",
       "      <th>NUMBER OF PERSONS KILLED</th>\n",
       "      <th>CONTRIBUTING FACTOR VEHICLE 1</th>\n",
       "      <th>VEHICLE TYPE CODE 1</th>\n",
       "    </tr>\n",
       "    <tr>\n",
       "      <th>UNIQUE KEY</th>\n",
       "      <th></th>\n",
       "      <th></th>\n",
       "      <th></th>\n",
       "      <th></th>\n",
       "      <th></th>\n",
       "      <th></th>\n",
       "    </tr>\n",
       "  </thead>\n",
       "  <tbody>\n",
       "    <tr>\n",
       "      <th>4142770</th>\n",
       "      <td>2019-06-01</td>\n",
       "      <td>NaN</td>\n",
       "      <td>1</td>\n",
       "      <td>0</td>\n",
       "      <td>Driver Inattention/Distraction</td>\n",
       "      <td>Bike</td>\n",
       "    </tr>\n",
       "    <tr>\n",
       "      <th>4147764</th>\n",
       "      <td>2019-06-01</td>\n",
       "      <td>QUEENS</td>\n",
       "      <td>0</td>\n",
       "      <td>0</td>\n",
       "      <td>Unspecified</td>\n",
       "      <td>Sedan</td>\n",
       "    </tr>\n",
       "    <tr>\n",
       "      <th>4143497</th>\n",
       "      <td>2019-06-01</td>\n",
       "      <td>NaN</td>\n",
       "      <td>0</td>\n",
       "      <td>0</td>\n",
       "      <td>Driver Inattention/Distraction</td>\n",
       "      <td>Sedan</td>\n",
       "    </tr>\n",
       "    <tr>\n",
       "      <th>4143272</th>\n",
       "      <td>2019-06-01</td>\n",
       "      <td>NaN</td>\n",
       "      <td>0</td>\n",
       "      <td>0</td>\n",
       "      <td>Unspecified</td>\n",
       "      <td>Station Wagon/Sport Utility Vehicle</td>\n",
       "    </tr>\n",
       "    <tr>\n",
       "      <th>4143688</th>\n",
       "      <td>2019-06-01</td>\n",
       "      <td>NaN</td>\n",
       "      <td>1</td>\n",
       "      <td>0</td>\n",
       "      <td>Unspecified</td>\n",
       "      <td>Sedan</td>\n",
       "    </tr>\n",
       "  </tbody>\n",
       "</table>\n",
       "</div>"
      ],
      "text/plain": [
       "                 DATE BOROUGH  NUMBER OF PERSONS INJURED  \\\n",
       "UNIQUE KEY                                                 \n",
       "4142770    2019-06-01     NaN                          1   \n",
       "4147764    2019-06-01  QUEENS                          0   \n",
       "4143497    2019-06-01     NaN                          0   \n",
       "4143272    2019-06-01     NaN                          0   \n",
       "4143688    2019-06-01     NaN                          1   \n",
       "\n",
       "            NUMBER OF PERSONS KILLED   CONTRIBUTING FACTOR VEHICLE 1  \\\n",
       "UNIQUE KEY                                                             \n",
       "4142770                            0  Driver Inattention/Distraction   \n",
       "4147764                            0                     Unspecified   \n",
       "4143497                            0  Driver Inattention/Distraction   \n",
       "4143272                            0                     Unspecified   \n",
       "4143688                            0                     Unspecified   \n",
       "\n",
       "                            VEHICLE TYPE CODE 1  \n",
       "UNIQUE KEY                                       \n",
       "4142770                                    Bike  \n",
       "4147764                                   Sedan  \n",
       "4143497                                   Sedan  \n",
       "4143272     Station Wagon/Sport Utility Vehicle  \n",
       "4143688                                   Sedan  "
      ]
     },
     "execution_count": 2,
     "metadata": {},
     "output_type": "execute_result"
    }
   ],
   "source": [
    "# Load data\n",
    "df = pd.read_csv('nypd_motor_vehicle_collisions_crashes_sample.csv',\n",
    "                 usecols = ['UNIQUE KEY', 'DATE', 'BOROUGH', \n",
    "                            'NUMBER OF PERSONS INJURED',\n",
    "                            'NUMBER OF PERSONS KILLED',\n",
    "                            'CONTRIBUTING FACTOR VEHICLE 1', \n",
    "                            'VEHICLE TYPE CODE 1'],\n",
    "                 index_col = 'UNIQUE KEY',\n",
    "                 parse_dates = ['DATE'])\n",
    "\n",
    "df.head()"
   ]
  },
  {
   "cell_type": "markdown",
   "metadata": {},
   "source": [
    "---\n",
    "\n",
    "### Task 1\n",
    "\n",
    "Write a function `explore_object` that takes a Pandas Series of type `object` and prints the following:\n",
    "\n",
    "- Number of unique values\n",
    "- The most common value\n",
    "- The least common value\n",
    "- The number of null values\n",
    "- A plot of the top five most common values"
   ]
  },
  {
   "cell_type": "code",
   "execution_count": 3,
   "metadata": {},
   "outputs": [],
   "source": [
    "def explore_object(df, col_name):\n",
    "    print(col_name)\n",
    "    ## Using value_counts function to get a sorted list of counts. \n",
    "    print(f'Number of unique values: {df[col_name].nunique()}')   #nunique function for unique values\n",
    "    print(f'The most common value: {df[col_name].value_counts().index[0]}') # taking the top (0) index for maximum value\n",
    "    print(f'The least common value: {df[col_name].value_counts().index[-1]}') # taking the last (-1) index for minimum value\n",
    "    print(f'The number of null values: {df[col_name].isna().sum()}') # using isna to get all null values and them adding them\n",
    "    df[col_name].value_counts()[:5].plot(kind='bar') # taking top 5 values and ploting a bar plot\n",
    "    plt.title('Top five most common values')\n",
    "    plt.xlabel(col_name)\n",
    "    plt.ylabel('Count')\n",
    "    plt.show()\n",
    "\n",
    " \n",
    "## explore_object(df, 'BOROUGH')"
   ]
  },
  {
   "cell_type": "markdown",
   "metadata": {},
   "source": [
    "---\n",
    "\n",
    "### Task 2\n",
    "\n",
    "Write a function `explore_numeric` that takes a Pandas Series of type `float` or `int` and prints the following:\n",
    "\n",
    "- The median value\n",
    "- The maximum value\n",
    "- The minimum value\n",
    "- The number of null values\n",
    "- A plot of the distribution"
   ]
  },
  {
   "cell_type": "code",
   "execution_count": 4,
   "metadata": {},
   "outputs": [],
   "source": [
    "def explore_numeric(df, col_name):\n",
    "    print(col_name)\n",
    "    print(f'Number of unique values: {df[col_name].median()}')  \n",
    "    print(f'The most common value: {df[col_name].max()}')\n",
    "    print(f'The least common value: {df[col_name].min()}')\n",
    "    print(f'The number of null values: {df[col_name].isna().sum()}') # using isna to get all null values and them adding them\n",
    "    plt.hist(df[col_name])\n",
    "    plt.title('Distribution plot')\n",
    "    plt.xlabel(col_name)\n",
    "    plt.ylabel('Count')\n",
    "    plt.show()\n",
    "    \n",
    "        \n",
    "## explore_numeric(df,'NUMBER OF PERSONS INJURED')    "
   ]
  },
  {
   "cell_type": "markdown",
   "metadata": {},
   "source": [
    "---\n",
    "\n",
    "### Task 3\n",
    "\n",
    "Write a wrapper function `explore` that takes a dataframe and for each column calls the appropriate exploratory function. The function should print the results of the exploratory function."
   ]
  },
  {
   "cell_type": "code",
   "execution_count": 5,
   "metadata": {},
   "outputs": [],
   "source": [
    "def explore(df):\n",
    "    cols = df.columns\n",
    "    for col in cols:\n",
    "        if(df[col].dtype == np.float64 or df[col].dtype == np.int64): # checking if the data type of column is int/float or not\n",
    "            explore_numeric(df, col)\n",
    "            print('\\n')\n",
    "        else:     ## else handles both object (string) and datetime datatypes\n",
    "            explore_object(df,col)\n",
    "            print('\\n')\n",
    "    \n",
    "    ## Write code here"
   ]
  },
  {
   "cell_type": "markdown",
   "metadata": {},
   "source": [
    "### Task 4\n",
    "\n",
    "Run the `explore` function."
   ]
  },
  {
   "cell_type": "code",
   "execution_count": 70,
   "metadata": {
    "scrolled": false
   },
   "outputs": [
    {
     "name": "stdout",
     "output_type": "stream",
     "text": [
      "DATE\n",
      "Number of unique values: 85\n",
      "The most common value: 2019-06-26 00:00:00\n",
      "The least common value: 2019-07-04 00:00:00\n",
      "The number of null values: 0\n"
     ]
    },
    {
     "data": {
      "image/png": "[encoded data removed]",
      "text/plain": [
       "<Figure size 432x288 with 1 Axes>"
      ]
     },
     "metadata": {
      "needs_background": "light"
     },
     "output_type": "display_data"
    },
    {
     "name": "stdout",
     "output_type": "stream",
     "text": [
      "\n",
      "\n",
      "BOROUGH\n",
      "Number of unique values: 5\n",
      "The most common value: BROOKLYN\n",
      "The least common value: STATEN ISLAND\n",
      "The number of null values: 17838\n"
     ]
    },
    {
     "data": {
      "image/png": "[encoded data removed]",
      "text/plain": [
       "<Figure size 432x288 with 1 Axes>"
      ]
     },
     "metadata": {
      "needs_background": "light"
     },
     "output_type": "display_data"
    },
    {
     "name": "stdout",
     "output_type": "stream",
     "text": [
      "\n",
      "\n",
      "NUMBER OF PERSONS INJURED\n",
      "Number of unique values: 0.0\n",
      "The most common value: 18\n",
      "The least common value: 0\n",
      "The number of null values: 0\n"
     ]
    },
    {
     "data": {
      "image/png": "[encoded data removed]",
      "text/plain": [
       "<Figure size 432x288 with 1 Axes>"
      ]
     },
     "metadata": {
      "needs_background": "light"
     },
     "output_type": "display_data"
    },
    {
     "name": "stdout",
     "output_type": "stream",
     "text": [
      "\n",
      "\n",
      "NUMBER OF PERSONS KILLED\n",
      "Number of unique values: 0.0\n",
      "The most common value: 2\n",
      "The least common value: 0\n",
      "The number of null values: 0\n"
     ]
    },
    {
     "data": {
      "image/png": "[encoded data removed]",
      "text/plain": [
       "<Figure size 432x288 with 1 Axes>"
      ]
     },
     "metadata": {
      "needs_background": "light"
     },
     "output_type": "display_data"
    },
    {
     "name": "stdout",
     "output_type": "stream",
     "text": [
      "\n",
      "\n",
      "CONTRIBUTING FACTOR VEHICLE 1\n",
      "Number of unique values: 55\n",
      "The most common value: Driver Inattention/Distraction\n",
      "The least common value: Headlights Defective\n",
      "The number of null values: 139\n"
     ]
    },
    {
     "data": {
      "image/png": "[encoded data removed]",
      "text/plain": [
       "<Figure size 432x288 with 1 Axes>"
      ]
     },
     "metadata": {
      "needs_background": "light"
     },
     "output_type": "display_data"
    },
    {
     "name": "stdout",
     "output_type": "stream",
     "text": [
      "\n",
      "\n",
      "VEHICLE TYPE CODE 1\n",
      "Number of unique values: 168\n",
      "The most common value: Sedan\n",
      "The least common value: Tow Truck\n",
      "The number of null values: 257\n"
     ]
    },
    {
     "data": {
      "image/png": "[encoded data removed]",
      "text/plain": [
       "<Figure size 432x288 with 1 Axes>"
      ]
     },
     "metadata": {
      "needs_background": "light"
     },
     "output_type": "display_data"
    },
    {
     "name": "stdout",
     "output_type": "stream",
     "text": [
      "\n",
      "\n"
     ]
    }
   ],
   "source": [
    "explore(df)"
   ]
  },
  {
   "cell_type": "code",
   "execution_count": null,
   "metadata": {
    "collapsed": true
   },
   "outputs": [],
   "source": []
  }
 ],
 "metadata": {
  "kernelspec": {
   "display_name": "Python 3",
   "language": "python",
   "name": "python3"
  },
  "language_info": {
   "codemirror_mode": {
    "name": "ipython",
    "version": 3
   },
   "file_extension": ".py",
   "mimetype": "text/x-python",
   "name": "python",
   "nbconvert_exporter": "python",
   "pygments_lexer": "ipython3",
   "version": "3.7.3"
  }
 },
 "nbformat": 4,
 "nbformat_minor": 2
}
